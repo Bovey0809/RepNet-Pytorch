{
 "metadata": {
  "language_info": {
   "codemirror_mode": {
    "name": "ipython",
    "version": 3
   },
   "file_extension": ".py",
   "mimetype": "text/x-python",
   "name": "python",
   "nbconvert_exporter": "python",
   "pygments_lexer": "ipython3",
   "version": "3.8.3-final"
  },
  "orig_nbformat": 2,
  "kernelspec": {
   "name": "python38364bitfascondaad7b123feb7f46d88c091bfb7164a246",
   "display_name": "Python 3.8.3 64-bit ('fas': conda)",
   "language": "python"
  }
 },
 "nbformat": 4,
 "nbformat_minor": 2,
 "cells": [
  {
   "cell_type": "code",
   "execution_count": 1,
   "metadata": {},
   "outputs": [],
   "source": [
    "import base64\n",
    "import io\n",
    "import os\n",
    "import time\n",
    "import cv2\n",
    "import numpy as np\n",
    "from PIL import Image\n",
    "\n",
    "import torch"
   ]
  },
  {
   "source": [
    "The Encoder \n",
    "============\n",
    "This part simply encodes each of the frame to a 512*1 vector"
   ],
   "cell_type": "markdown",
   "metadata": {}
  },
  {
   "cell_type": "code",
   "execution_count": 2,
   "metadata": {},
   "outputs": [],
   "source": [
    "import torchvision\n",
    "\n",
    "resnetbase = torchvision.models.resnet50(pretrained=True, progress=True)"
   ]
  },
  {
   "cell_type": "code",
   "execution_count": 3,
   "metadata": {
    "tags": []
   },
   "outputs": [
    {
     "output_type": "stream",
     "name": "stdout",
     "text": [
      "torch.Size([10, 1024, 7, 7])\n"
     ]
    }
   ],
   "source": [
    "#The paper uses conv4_block3 which should be layer3, bottleneck 2 layer for us\n",
    "import torch.nn as nn\n",
    "import torch.nn.functional as F\n",
    "\n",
    "class ResNet50Bottom(nn.Module):\n",
    "    def __init__(self, original_model):\n",
    "        super(ResNet50Bottom, self).__init__()\n",
    "        self.rnet=nn.Sequential(*list(original_model.children())[:-4])\n",
    "        self.left=nn.Sequential(*list(original_model.children())[-4][:3])\n",
    "        \n",
    "    def forward(self, x):\n",
    "        x = self.rnet(x)\n",
    "        x = self.left(x)\n",
    "        return x\n",
    "\n",
    "resencode = ResNet50Bottom(resnetbase)\n",
    "src = torch.randn(10, 3, 100, 100)\n",
    "out = resencode(src)\n",
    "print(out.shape)"
   ]
  },
  {
   "cell_type": "code",
   "execution_count": 4,
   "metadata": {},
   "outputs": [],
   "source": [
    "import math\n",
    "class PositionalEncoding(nn.Module):\n",
    "\n",
    "    def __init__(self, d_model, dropout=0.1, max_len=5000):\n",
    "        super(PositionalEncoding, self).__init__()\n",
    "        self.dropout = nn.Dropout(p=dropout)\n",
    "\n",
    "        pe = torch.zeros(max_len, d_model)\n",
    "        position = torch.arange(0, max_len, dtype=torch.float).unsqueeze(1)\n",
    "        div_term = torch.exp(torch.arange(0, d_model, 2).float() * (-math.log(10000.0) / d_model))\n",
    "        pe[:, 0::2] = torch.sin(position * div_term)\n",
    "        pe[:, 1::2] = torch.cos(position * div_term)\n",
    "        pe = pe.unsqueeze(0).transpose(0, 1)\n",
    "        self.register_buffer('pe', pe)\n",
    "\n",
    "    def forward(self, x):\n",
    "        x = x + self.pe[:x.size(0), :]\n",
    "        return self.dropout(x)\n",
    "\n"
   ]
  },
  {
   "cell_type": "code",
   "execution_count": 5,
   "metadata": {},
   "outputs": [],
   "source": [
    "def pairwise_l2_distance(a, b):\n",
    "  \"\"\"Computes pairwise distances between all rows of a and b.\"\"\"\n",
    "  norm_a = torch.sum(torch.square(a), 1)\n",
    "  norm_a = torch.reshape(norm_a, (-1, 1))\n",
    "  norm_b = torch.sum(torch.square(b), 1)\n",
    "  norm_b = torch.reshape(norm_b, (1, -1))\n",
    "  dist = torch.maximum(norm_a\n",
    "                      - 2.0 * torch.matmul(a,torch.transpose(b,0,1))                          + norm_b, torch.tensor(0.0))\n",
    "  return dist\n",
    "\n",
    "#returns 1*num_frame*num_frame\n",
    "def _get_sims(embs):\n",
    "    \"\"\"Calculates self-similarity between sequence of embeddings.\"\"\"\n",
    "    dist = pairwise_l2_distance(embs, embs)\n",
    "    sims = -1.0 * dist\n",
    "    sims = sims.unsqueeze(0)\n",
    "    return sims\n",
    "\n",
    "def get_sims(embs, temperature = 13.544):\n",
    "    batch_size = embs.shape[0]\n",
    "    seq_len = embs.shape[1]\n",
    "    embs = torch.reshape(embs, (batch_size, seq_len, -1))\n",
    "\n",
    "    simsarr=[]\n",
    "    for i in range(batch_size):\n",
    "        simsarr.append(_get_sims(embs[i,:,:]).unsqueeze(0))\n",
    "    \n",
    "    sims = torch.vstack(simsarr)\n",
    "    sims /= temperature\n",
    "    sims = F.softmax(sims, dim=-1)\n",
    "    return sims\n",
    "        "
   ]
  },
  {
   "cell_type": "code",
   "execution_count": 6,
   "metadata": {},
   "outputs": [
    {
     "output_type": "stream",
     "name": "stdout",
     "text": [
      "torch.Size([10, 100, 512])\ntorch.Size([10, 100, 512])\n"
     ]
    }
   ],
   "source": [
    "encoder = nn.TransformerEncoderLayer(d_model=512, nhead=8)\n",
    "src = torch.rand(10,100,512)\n",
    "pos_encoder = PositionalEncoding(512, 0.1)\n",
    "out = pos_encoder(src)\n",
    "print(out.shape)\n",
    "out = encoder(src)\n",
    "print(out.shape)"
   ]
  },
  {
   "cell_type": "code",
   "execution_count": 7,
   "metadata": {},
   "outputs": [
    {
     "output_type": "stream",
     "name": "stdout",
     "text": [
      "done\n"
     ]
    }
   ],
   "source": [
    "#after this we will have an output with 1026 channels * height * width * frames, this is a 4D output. each 3-D object represents one frames encodings. Now we will use a 3-D convolution to encode relations between adjacent frames.\n",
    "\n",
    "class RepNet(nn.Module):\n",
    "    def __init__(self, num_frames):\n",
    "        super(RepNet, self).__init__()\n",
    "        self.num_frames = num_frames\n",
    "        self.resnetBase = resencode\n",
    "\n",
    "        self.Conv3D = nn.Conv3d(in_channels = 1024,\n",
    "                                out_channels = 512,\n",
    "                                kernel_size = 3,\n",
    "                                padding = 3,\n",
    "                                dilation = 3)\n",
    "        self.bn1 = nn.BatchNorm3d(512)\n",
    "        #get_sims\n",
    "        \n",
    "        self.conv3x3_1 = nn.Conv2d(in_channels = 1,\n",
    "                                 out_channels = 32,\n",
    "                                 kernel_size = 3,\n",
    "                                 padding = 1)\n",
    "        #relu after this, now we have batch * num_frames * num_frames*32\n",
    "        #flatten with dim batch * 32*num_frames * num_frames\n",
    "\n",
    "        self.conv3x3_2 = nn.Conv2d(in_channels = 32,\n",
    "                                 out_channels = 512,\n",
    "                                 kernel_size = 3,\n",
    "                                 padding = 1)\n",
    "        self.pos_encoder = PositionalEncoding(512, 0.1)\n",
    "        trans_encoder_layer = nn.TransformerEncoderLayer(d_model = 512,\n",
    "                                                nhead = 4,\n",
    "                                                dim_feedforward = 512,\n",
    "                                                dropout = 0.1,\n",
    "                                                activation = 'relu')\n",
    "        self.trans_encoder=nn.TransformerEncoder(trans_encoder_layer,5)\n",
    "        #what is the output shape of transformer\n",
    "        #same as the input, exactly\n",
    "        #fc layers\n",
    "\n",
    "        #period prediction\n",
    "        self.fc1_1 = nn.Linear(self.num_frames*512, 512)\n",
    "        self.fc1_2 = nn.Linear(512, 1)\n",
    "\n",
    "        \n",
    "        #within period module\n",
    "        self.fc2_1 = nn.Linear(self.num_frames*512, 512)\n",
    "        self.fc2_2 = nn.Linear(512, 1)\n",
    "\n",
    "    def forward(self, x):\n",
    "        batch_size = x.shape[0]\n",
    "        x = torch.reshape(x, (-1, 3, x.shape[3], x.shape[4]))\n",
    "        x = self.resnetBase(x)\n",
    "        x = torch.reshape(x, \n",
    "                    (batch_size,-1,x.shape[1],x.shape[2],x.shape[3]))\n",
    "        x = torch.transpose(x, 1, 2)\n",
    "        #batch*channel*frame*height*width\n",
    "        x = self.Conv3D(x)\n",
    "        x = self.bn1(x)\n",
    "        x,_ = torch.max(x, 4)\n",
    "        x,_ = torch.max(x, 3)\n",
    "        \n",
    "        final_embs = x\n",
    "        \n",
    "        x = torch.transpose(x, 1, 2)\n",
    "        x = get_sims(x)\n",
    "        x = F.relu(self.conv3x3_1(x))\n",
    "        x = F.relu(self.conv3x3_2(x))\n",
    "        x = torch.reshape(x, (batch_size, 512, -1))\n",
    "        x = torch.transpose(x, 1, 2)\n",
    "        x = self.pos_encoder(x)\n",
    "        x = self.trans_encoder(x)\n",
    "        x = torch.reshape(x, (x.shape[0],self.num_frames, -1))\n",
    "        \n",
    "        print(x.shape)\n",
    "\n",
    "        y1 = F.relu(self.fc1_1(x))\n",
    "        y1 = F.relu(self.fc1_2(y1))\n",
    "\n",
    "        y2 = F.relu(self.fc2_1(x))\n",
    "        y2 = F.relu(self.fc2_2(y2))\n",
    "        return y1, y2, final_embs\n",
    "\n",
    "print(\"done\")"
   ]
  },
  {
   "cell_type": "code",
   "execution_count": 8,
   "metadata": {},
   "outputs": [
    {
     "output_type": "stream",
     "name": "stdout",
     "text": [
      "torch.Size([2, 64, 32768])\ntorch.Size([2, 64, 1])\ntorch.Size([2, 64, 1])\ntorch.Size([2, 512, 64])\n"
     ]
    }
   ],
   "source": [
    "#batch_size*num_frame*c*h*w\n",
    "\n",
    "src = torch.randn(2,64, 3, 112, 112)    \n",
    "model = RepNet(64)\n",
    "o1, o2, e = model(src)\n",
    "print(o1.shape)\n",
    "print(o2.shape)\n",
    "print(e.shape)"
   ]
  }
 ]
}