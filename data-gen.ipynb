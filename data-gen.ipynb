{
 "metadata": {
  "language_info": {
   "codemirror_mode": {
    "name": "ipython",
    "version": 3
   },
   "file_extension": ".py",
   "mimetype": "text/x-python",
   "name": "python",
   "nbconvert_exporter": "python",
   "pygments_lexer": "ipython3",
   "version": "3.8.3-final"
  },
  "orig_nbformat": 2,
  "kernelspec": {
   "name": "python38364bitfascondaad7b123feb7f46d88c091bfb7164a246",
   "display_name": "Python 3.8.3 64-bit ('fas': conda)",
   "language": "python"
  }
 },
 "nbformat": 4,
 "nbformat_minor": 2,
 "cells": [
  {
   "cell_type": "code",
   "execution_count": 1,
   "metadata": {},
   "outputs": [],
   "source": [
    "import torch\n",
    "import numpy as np\n",
    "from PIL import Image\n",
    "import cv2, pandas as pd, youtube_dl, subprocess\n",
    "from torch.utils.data import Dataset, DataLoader, ConcatDataset\n",
    "from torchvision import transforms"
   ]
  },
  {
   "cell_type": "code",
   "execution_count": 5,
   "metadata": {},
   "outputs": [
    {
     "output_type": "stream",
     "name": "stdout",
     "text": [
      "done\n"
     ]
    }
   ],
   "source": [
    "\n",
    "class CountixDataset(Dataset):\n",
    "    \n",
    "    def __init__(self, df_path, framesPerVid):\n",
    "        # sort the dataframe\n",
    "        self.df = pd.read_csv(df_path)\n",
    "        self.framesPerVid = framesPerVid\n",
    "\n",
    "    def __getitem__(self, index):\n",
    "        id = self.df.loc[index, 'video_id']\n",
    "        start = self.df.loc[index, 'repetition_start']\n",
    "        end = self.df.loc[index, 'repetition_end']\n",
    "        count = self.df.loc[index, 'count']\n",
    "        \n",
    "        X, newStart, newEnd = self.generateRepVid(start,end,id,index)\n",
    "        durationScaleFac = (newEnd-newStart)/self.framesPerVid\n",
    "        repStartFrame = int((newStart- start)/durationScaleFac)\n",
    "        repEndFrame = int((newStart- end)/durationScaleFac)\n",
    "        \n",
    "        periodicity = np.zeros((self.framesPerVid,1)) \n",
    "        for i in range(self.framesPerVid):\n",
    "            if repStartFrame< i <repEndFrame:\n",
    "                periodicity[i] = False\n",
    "\n",
    "\n",
    "        periodLength = np.zeros((self.framesPerVid,1))\n",
    "        for i in range(self.framesPerVid):\n",
    "            if repStartFrame< i <repEndFrame:\n",
    "                periodLength[i] = (repEndFrame-repEndFrame)/count\n",
    "\n",
    "        return X, periodicity, periodLength\n",
    "\n",
    "    def generateRepVid(self, start, end, id, index):\n",
    "\n",
    "        #TODO: include extra frames from both sides\n",
    "        extendBegin = True\n",
    "        if self.df.loc[max(0,index-1), 'video_id']== self.df.loc[index, 'video_id']:\n",
    "            if int(self.df.loc[max(0,index-1), 'repetition_end']) == int(self.df.loc[index, 'repetition_start']):\n",
    "                extendBegin = False\n",
    "\n",
    "\n",
    "        extendEnd = True\n",
    "        if self.df.loc[min(len(self)-1,index+1), 'video_id']==self.df.loc[index, 'video_id']:\n",
    "            if int(self.df.loc[index, 'repetition_end'])==int(self.df.loc[min(len(self)-1,index+1), 'repetition_start']):\n",
    "                extendEnd = False\n",
    "\n",
    "        newStart =  start\n",
    "        if extendBegin:\n",
    "            newStart = max(start - 1.5, self.df.loc[index, 'kinetics_start'])\n",
    "            \n",
    "        newEnd = end\n",
    "        if extendEnd:\n",
    "            newEnd = min(end  + 1.5, self.df.loc[index, 'kinetics_end'])\n",
    "\n",
    "        url = 'https://www.youtube.com/watch?v='+id\n",
    "        path_to_video = 'video_to_train'+id+'.mp4'\n",
    "        fps = self.framesPerVid//(end-start) + 1\n",
    "        \n",
    "        if os.path.exists(path_to_video):\n",
    "            os.remove(path_to_video)\n",
    "\n",
    "        opts = {'format': 'worst',\n",
    "                'quiet':True,\n",
    "                }\n",
    "        \n",
    "        while(True):\n",
    "            with youtube_dl.YoutubeDL(opts) as ydl:\n",
    "                result=ydl.extract_info(url, download=False)\n",
    "                video=result['entries'][0] if 'entries' in result else result\n",
    "            url = video['url']\n",
    "            subprocess.call('ffmpeg -i \"%s\" -ss %s -to %s -vf \"setpts=%s*PTS\" -r %s \"%s\"' % \n",
    "                                        (url, newStart, newEnd, 30/fps, fps, path_to_video), shell=True)\n",
    "\n",
    "            if os.path.exists(path_to_video):\n",
    "                break\n",
    "\n",
    "        frames = []\n",
    "        cap = cv2.VideoCapture(path_to_video)\n",
    "        while cap.isOpened():\n",
    "            ret, frame = cap.read()\n",
    "            if ret is False:\n",
    "                break\n",
    "                \n",
    "            img = Image.fromarray(frame)\n",
    "            preprocess = transforms.Compose([\n",
    "                transforms.Resize((112, 112), 2),\n",
    "                transforms.ToTensor(),       \n",
    "                transforms.Normalize(mean=[0.485, 0.456, 0.406],\n",
    "                                    std=[0.229, 0.224, 0.225])])\n",
    "            frameTensor = preprocess(img).unsqueeze(0)\n",
    "            frames.append(frameTensor)\n",
    "        \n",
    "        cap.release()\n",
    "\n",
    "        if os.path.exists(path_to_video):\n",
    "            os.remove(path_to_video)\n",
    "\n",
    "        se = len(frames)//self.framesPerVid\n",
    "        frames = [frame for i, frame in enumerate(frames) if i%se==0]\n",
    "        frames = frames[:self.framesPerVid]\n",
    "        frames = torch.cat(frames)\n",
    "        return frames, newStart, newEnd\n",
    "\n",
    "    def __len__(self):\n",
    "        return len(self.df)\n",
    "\n",
    "print(\"done\")"
   ]
  },
  {
   "cell_type": "code",
   "execution_count": 6,
   "metadata": {},
   "outputs": [
    {
     "output_type": "stream",
     "name": "stdout",
     "text": [
      "frames: torch.Size([64, 3, 112, 112]) dur: (64, 1) reps: (64, 1)\n",
      "frames: torch.Size([64, 3, 112, 112]) dur: (64, 1) reps: (64, 1)\n",
      "frames: torch.Size([64, 3, 112, 112]) dur: (64, 1) reps: (64, 1)\n",
      "frames: torch.Size([64, 3, 112, 112]) dur: (64, 1) reps: (64, 1)\n"
     ]
    }
   ],
   "source": [
    "ds = CountixDataset('countix/countix_train.csv', 64)\n",
    "for i in range(4):\n",
    "    X, y1, y2 = ds[i]\n",
    "    print(\"frames:\",X.shape,\"dur:\",y1.shape,\"reps:\",y2.shape)"
   ]
  },
  {
   "cell_type": "code",
   "execution_count": 7,
   "metadata": {},
   "outputs": [],
   "source": [
    "trainLoader = DataLoader(ds, batch_size = 4,num_workers=4)\n",
    "X, y1, y2 = next(iter(trainLoader))\n"
   ]
  },
  {
   "cell_type": "code",
   "execution_count": 8,
   "metadata": {
    "tags": []
   },
   "outputs": [
    {
     "output_type": "stream",
     "name": "stdout",
     "text": [
      "torch.Size([4, 64, 3, 112, 112])\ntorch.Size([4, 64, 1])\ntorch.Size([4, 64, 1])\n"
     ]
    }
   ],
   "source": [
    "print(X.shape)\n",
    "print(y1.shape)\n",
    "print(y2.shape)"
   ]
  }
 ]
}